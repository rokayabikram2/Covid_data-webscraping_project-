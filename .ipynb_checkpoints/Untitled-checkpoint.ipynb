{
 "cells": [
  {
   "cell_type": "code",
   "execution_count": 1,
   "id": "c42dda14",
   "metadata": {},
   "outputs": [],
   "source": [
    "import pandas as pd"
   ]
  },
  {
   "cell_type": "code",
   "execution_count": 2,
   "id": "47c5cfc7",
   "metadata": {},
   "outputs": [],
   "source": [
    "df = pd.read_csv('GDP_of_Nepal.csv')"
   ]
  },
  {
   "cell_type": "code",
   "execution_count": 3,
   "id": "310d4bed",
   "metadata": {},
   "outputs": [
    {
     "data": {
      "text/html": [
       "<div>\n",
       "<style scoped>\n",
       "    .dataframe tbody tr th:only-of-type {\n",
       "        vertical-align: middle;\n",
       "    }\n",
       "\n",
       "    .dataframe tbody tr th {\n",
       "        vertical-align: top;\n",
       "    }\n",
       "\n",
       "    .dataframe thead th {\n",
       "        text-align: right;\n",
       "    }\n",
       "</style>\n",
       "<table border=\"1\" class=\"dataframe\">\n",
       "  <thead>\n",
       "    <tr style=\"text-align: right;\">\n",
       "      <th></th>\n",
       "      <th>Year</th>\n",
       "      <th>GDP Nominal(Current USD)</th>\n",
       "      <th>GDP Real(Inflation adj.)</th>\n",
       "      <th>GDP change</th>\n",
       "      <th>GDP per capita</th>\n",
       "      <th>pop. change</th>\n",
       "      <th>Population</th>\n",
       "    </tr>\n",
       "  </thead>\n",
       "  <tbody>\n",
       "    <tr>\n",
       "      <th>0</th>\n",
       "      <td>2017</td>\n",
       "      <td>$24,880,266,905</td>\n",
       "      <td>$21,463,958,187</td>\n",
       "      <td>7.91%</td>\n",
       "      <td>$777</td>\n",
       "      <td>1.35 %</td>\n",
       "      <td>27,632,681</td>\n",
       "    </tr>\n",
       "    <tr>\n",
       "      <th>1</th>\n",
       "      <td>2016</td>\n",
       "      <td>$21,185,922,408</td>\n",
       "      <td>$19,891,395,830</td>\n",
       "      <td>0.59%</td>\n",
       "      <td>$730</td>\n",
       "      <td>0.92 %</td>\n",
       "      <td>27,263,433</td>\n",
       "    </tr>\n",
       "    <tr>\n",
       "      <th>2</th>\n",
       "      <td>2015</td>\n",
       "      <td>$21,410,840,909</td>\n",
       "      <td>$19,774,984,747</td>\n",
       "      <td>3.32%</td>\n",
       "      <td>$732</td>\n",
       "      <td>0.41 %</td>\n",
       "      <td>27,015,031</td>\n",
       "    </tr>\n",
       "    <tr>\n",
       "      <th>3</th>\n",
       "      <td>2014</td>\n",
       "      <td>$20,002,968,838</td>\n",
       "      <td>$19,139,013,429</td>\n",
       "      <td>5.99%</td>\n",
       "      <td>$711</td>\n",
       "      <td>-0.04 %</td>\n",
       "      <td>26,905,978</td>\n",
       "    </tr>\n",
       "    <tr>\n",
       "      <th>4</th>\n",
       "      <td>2013</td>\n",
       "      <td>$19,271,168,018</td>\n",
       "      <td>$18,057,549,556</td>\n",
       "      <td>4.13%</td>\n",
       "      <td>$671</td>\n",
       "      <td>-0.27 %</td>\n",
       "      <td>26,916,793</td>\n",
       "    </tr>\n",
       "  </tbody>\n",
       "</table>\n",
       "</div>"
      ],
      "text/plain": [
       "   Year GDP Nominal(Current USD) GDP Real(Inflation adj.) GDP change  \\\n",
       "0  2017          $24,880,266,905          $21,463,958,187      7.91%   \n",
       "1  2016          $21,185,922,408          $19,891,395,830      0.59%   \n",
       "2  2015          $21,410,840,909          $19,774,984,747      3.32%   \n",
       "3  2014          $20,002,968,838          $19,139,013,429      5.99%   \n",
       "4  2013          $19,271,168,018          $18,057,549,556      4.13%   \n",
       "\n",
       "  GDP per capita pop. change  Population  \n",
       "0           $777      1.35 %  27,632,681  \n",
       "1           $730      0.92 %  27,263,433  \n",
       "2           $732      0.41 %  27,015,031  \n",
       "3           $711     -0.04 %  26,905,978  \n",
       "4           $671     -0.27 %  26,916,793  "
      ]
     },
     "execution_count": 3,
     "metadata": {},
     "output_type": "execute_result"
    }
   ],
   "source": [
    "df.head()"
   ]
  },
  {
   "cell_type": "code",
   "execution_count": 4,
   "id": "9963bc19",
   "metadata": {},
   "outputs": [
    {
     "data": {
      "text/plain": [
       "Year                         int64\n",
       "GDP Nominal(Current USD)    object\n",
       "GDP Real(Inflation adj.)    object\n",
       "GDP change                  object\n",
       "GDP per capita              object\n",
       "pop. change                 object\n",
       "Population                  object\n",
       "dtype: object"
      ]
     },
     "execution_count": 4,
     "metadata": {},
     "output_type": "execute_result"
    }
   ],
   "source": [
    "df.dtypes"
   ]
  },
  {
   "cell_type": "code",
   "execution_count": 13,
   "id": "06752bc7",
   "metadata": {},
   "outputs": [
    {
     "data": {
      "text/plain": [
       "0     24880266905\n",
       "1     21185922408\n",
       "2     21410840909\n",
       "3     20002968838\n",
       "4     19271168018\n",
       "5     18851513891\n",
       "6     18913574371\n",
       "7     16002656434\n",
       "8     12854985464\n",
       "9     12545438605\n",
       "10    10325618017\n",
       "11     9043715356\n",
       "12     8130258041\n",
       "13     7273938315\n",
       "14     6330473097\n",
       "15     6050875807\n",
       "16     6007055043\n",
       "17     5494252208\n",
       "18     5033642384\n",
       "19     4856255044\n",
       "20     4918691917\n",
       "21     4521580381\n",
       "22     4401104418\n",
       "23     4066775510\n",
       "Name: GDP Nominal(Current USD), dtype: object"
      ]
     },
     "execution_count": 13,
     "metadata": {},
     "output_type": "execute_result"
    }
   ],
   "source": [
    "df['GDP Nominal(Current USD)'].str.replace('$' , '', regex = True).replace(\",\", '', regex = True)"
   ]
  },
  {
   "cell_type": "code",
   "execution_count": 15,
   "id": "88ac5ab6",
   "metadata": {},
   "outputs": [],
   "source": [
    "df['GDP Nominal(Current USD)'] = df['GDP Nominal(Current USD)'].str.replace('$' , '', regex = True).replace(\",\", '', regex = True).astype(float)"
   ]
  },
  {
   "cell_type": "code",
   "execution_count": 16,
   "id": "8e4a73ba",
   "metadata": {},
   "outputs": [
    {
     "data": {
      "text/plain": [
       "Year                          int64\n",
       "GDP Nominal(Current USD)    float64\n",
       "GDP Real(Inflation adj.)     object\n",
       "GDP change                   object\n",
       "GDP per capita               object\n",
       "pop. change                  object\n",
       "Population                   object\n",
       "dtype: object"
      ]
     },
     "execution_count": 16,
     "metadata": {},
     "output_type": "execute_result"
    }
   ],
   "source": [
    "df.dtypes"
   ]
  },
  {
   "cell_type": "code",
   "execution_count": 17,
   "id": "684930d2",
   "metadata": {},
   "outputs": [],
   "source": [
    "df['GDP Real(Inflation adj.)'] = df['GDP Real(Inflation adj.)'].str.replace('$' , '', regex = True).replace(\",\", '', regex = True).astype(float)"
   ]
  },
  {
   "cell_type": "code",
   "execution_count": 18,
   "id": "ecf66c08",
   "metadata": {},
   "outputs": [
    {
     "name": "stdout",
     "output_type": "stream",
     "text": [
      "<class 'pandas.core.frame.DataFrame'>\n",
      "RangeIndex: 24 entries, 0 to 23\n",
      "Data columns (total 7 columns):\n",
      " #   Column                    Non-Null Count  Dtype  \n",
      "---  ------                    --------------  -----  \n",
      " 0   Year                      24 non-null     int64  \n",
      " 1   GDP Nominal(Current USD)  24 non-null     float64\n",
      " 2   GDP Real(Inflation adj.)  24 non-null     float64\n",
      " 3   GDP change                24 non-null     object \n",
      " 4   GDP per capita            24 non-null     object \n",
      " 5   pop. change               24 non-null     object \n",
      " 6   Population                24 non-null     object \n",
      "dtypes: float64(2), int64(1), object(4)\n",
      "memory usage: 1.4+ KB\n"
     ]
    }
   ],
   "source": [
    "df.info()"
   ]
  },
  {
   "cell_type": "code",
   "execution_count": 19,
   "id": "48eb37ef",
   "metadata": {},
   "outputs": [
    {
     "data": {
      "text/html": [
       "<div>\n",
       "<style scoped>\n",
       "    .dataframe tbody tr th:only-of-type {\n",
       "        vertical-align: middle;\n",
       "    }\n",
       "\n",
       "    .dataframe tbody tr th {\n",
       "        vertical-align: top;\n",
       "    }\n",
       "\n",
       "    .dataframe thead th {\n",
       "        text-align: right;\n",
       "    }\n",
       "</style>\n",
       "<table border=\"1\" class=\"dataframe\">\n",
       "  <thead>\n",
       "    <tr style=\"text-align: right;\">\n",
       "      <th></th>\n",
       "      <th>Year</th>\n",
       "      <th>GDP Nominal(Current USD)</th>\n",
       "      <th>GDP Real(Inflation adj.)</th>\n",
       "      <th>GDP change</th>\n",
       "      <th>GDP per capita</th>\n",
       "      <th>pop. change</th>\n",
       "      <th>Population</th>\n",
       "    </tr>\n",
       "  </thead>\n",
       "  <tbody>\n",
       "    <tr>\n",
       "      <th>0</th>\n",
       "      <td>2017</td>\n",
       "      <td>2.488027e+10</td>\n",
       "      <td>2.146396e+10</td>\n",
       "      <td>7.91%</td>\n",
       "      <td>$777</td>\n",
       "      <td>1.35 %</td>\n",
       "      <td>27,632,681</td>\n",
       "    </tr>\n",
       "    <tr>\n",
       "      <th>1</th>\n",
       "      <td>2016</td>\n",
       "      <td>2.118592e+10</td>\n",
       "      <td>1.989140e+10</td>\n",
       "      <td>0.59%</td>\n",
       "      <td>$730</td>\n",
       "      <td>0.92 %</td>\n",
       "      <td>27,263,433</td>\n",
       "    </tr>\n",
       "    <tr>\n",
       "      <th>2</th>\n",
       "      <td>2015</td>\n",
       "      <td>2.141084e+10</td>\n",
       "      <td>1.977498e+10</td>\n",
       "      <td>3.32%</td>\n",
       "      <td>$732</td>\n",
       "      <td>0.41 %</td>\n",
       "      <td>27,015,031</td>\n",
       "    </tr>\n",
       "    <tr>\n",
       "      <th>3</th>\n",
       "      <td>2014</td>\n",
       "      <td>2.000297e+10</td>\n",
       "      <td>1.913901e+10</td>\n",
       "      <td>5.99%</td>\n",
       "      <td>$711</td>\n",
       "      <td>-0.04 %</td>\n",
       "      <td>26,905,978</td>\n",
       "    </tr>\n",
       "    <tr>\n",
       "      <th>4</th>\n",
       "      <td>2013</td>\n",
       "      <td>1.927117e+10</td>\n",
       "      <td>1.805755e+10</td>\n",
       "      <td>4.13%</td>\n",
       "      <td>$671</td>\n",
       "      <td>-0.27 %</td>\n",
       "      <td>26,916,793</td>\n",
       "    </tr>\n",
       "  </tbody>\n",
       "</table>\n",
       "</div>"
      ],
      "text/plain": [
       "   Year  GDP Nominal(Current USD)  GDP Real(Inflation adj.) GDP change  \\\n",
       "0  2017              2.488027e+10              2.146396e+10      7.91%   \n",
       "1  2016              2.118592e+10              1.989140e+10      0.59%   \n",
       "2  2015              2.141084e+10              1.977498e+10      3.32%   \n",
       "3  2014              2.000297e+10              1.913901e+10      5.99%   \n",
       "4  2013              1.927117e+10              1.805755e+10      4.13%   \n",
       "\n",
       "  GDP per capita pop. change  Population  \n",
       "0           $777      1.35 %  27,632,681  \n",
       "1           $730      0.92 %  27,263,433  \n",
       "2           $732      0.41 %  27,015,031  \n",
       "3           $711     -0.04 %  26,905,978  \n",
       "4           $671     -0.27 %  26,916,793  "
      ]
     },
     "execution_count": 19,
     "metadata": {},
     "output_type": "execute_result"
    }
   ],
   "source": [
    "df.head()"
   ]
  },
  {
   "cell_type": "code",
   "execution_count": 20,
   "id": "f7df6910",
   "metadata": {},
   "outputs": [],
   "source": [
    "import matplotlib.pyplot as plt"
   ]
  },
  {
   "cell_type": "code",
   "execution_count": 26,
   "id": "eabaf42b",
   "metadata": {},
   "outputs": [
    {
     "data": {
      "image/png": "[encoded data removed]",
      "text/plain": [
       "<Figure size 640x480 with 1 Axes>"
      ]
     },
     "metadata": {},
     "output_type": "display_data"
    }
   ],
   "source": [
    "plt.plot(df['Year'], df['GDP Nominal(Current USD)'], color = 'r', label = \"GDP USD($)\")\n",
    "plt.legend()\n",
    "plt.title(\"GDP of Nepal in US dollar each year\")\n",
    "plt.xlabel(\"Date\")\n",
    "plt.ylabel(\"Paisa in dollar\")\n",
    "plt.show()"
   ]
  },
  {
   "cell_type": "code",
   "execution_count": null,
   "id": "cbe479c4",
   "metadata": {},
   "outputs": [],
   "source": []
  }
 ],
 "metadata": {
  "kernelspec": {
   "display_name": "Python 3 (ipykernel)",
   "language": "python",
   "name": "python3"
  },
  "language_info": {
   "codemirror_mode": {
    "name": "ipython",
    "version": 3
   },
   "file_extension": ".py",
   "mimetype": "text/x-python",
   "name": "python",
   "nbconvert_exporter": "python",
   "pygments_lexer": "ipython3",
   "version": "3.8.10"
  }
 },
 "nbformat": 4,
 "nbformat_minor": 5
}
